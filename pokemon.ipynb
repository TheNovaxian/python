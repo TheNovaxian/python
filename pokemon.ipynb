{
 "cells": [
  {
   "cell_type": "code",
   "execution_count": 4,
   "metadata": {},
   "outputs": [],
   "source": [
    "pokemon_data = [\n",
    "    (\"Pikachu\", \"Electric\", 35, 55, 40, 90),\n",
    "    (\"Charizard\", \"Fire/Flying\", 78, 84, 78, 100),\n",
    "    (\"Blastoise\", \"Water\", 79, 83, 100, 78),\n",
    "    (\"Venusaur\", \"Grass/Poison\", 80, 82, 83, 80),\n",
    "    (\"Gengar\", \"Ghost/Poison\", 60, 65, 60, 110)\n",
    "]"
   ]
  },
  {
   "cell_type": "code",
   "execution_count": 39,
   "metadata": {},
   "outputs": [
    {
     "name": "stdout",
     "output_type": "stream",
     "text": [
      "1. Pikachu is a Electric type.\n",
      "2. Charizard is a Fire/Flying type.\n",
      "3. Blastoise is a Water type.\n",
      "4. Venusaur is a Grass/Poison type.\n",
      "5. Gengar is a Ghost/Poison type.\n",
      "None\n"
     ]
    }
   ],
   "source": [
    "#Create a function that takes a Pokemon tuple and returns a formatted string with the Pokemon's name and type. Use this function to print information for all Pokemon in the dataset\n",
    "def format_pokemon_info(pokemon_tuple):\n",
    "    for index, pokemon in enumerate(pokemon_data):\n",
    "     name,type,*_ = pokemon\n",
    "     print(f\"{index+1}. {name} is a {type} type.\")\n",
    "\n",
    "pokemon_list = format_pokemon_info(pokemon_data)\n",
    "print(pokemon_list)"
   ]
  },
  {
   "cell_type": "code",
   "execution_count": 40,
   "metadata": {},
   "outputs": [
    {
     "name": "stdout",
     "output_type": "stream",
     "text": [
      "The fastest Pokemon is Gengar with a speed of 110.\n"
     ]
    }
   ],
   "source": [
    "#Find the Pokemon with the highest speed stat. Complete the code by using the provided get_speed function correctly as the key parameter.\n",
    "\n",
    "def get_speed(pokemon):\n",
    "    return pokemon[\"speed\"]\n",
    "\n",
    "pokemon_speed_list = [\n",
    "    {\"name\": \"Pikachu\", \"speed\": 90},\n",
    "    {\"name\": \"Charizard\", \"speed\": 100},\n",
    "    {\"name\": \"Gengar\", \"speed\": 110},\n",
    "    {\"name\": \"Bulbasaur\", \"speed\": 45}\n",
    "]\n",
    "\n",
    "# Use the get_speed function correctly as the key\n",
    "fastest_pokemon = max(pokemon_speed_list, key=get_speed)\n",
    "\n",
    "print(f\"The fastest Pokemon is {fastest_pokemon['name']} with a speed of {fastest_pokemon['speed']}.\")"
   ]
  },
  {
   "cell_type": "code",
   "execution_count": 41,
   "metadata": {},
   "outputs": [
    {
     "name": "stdout",
     "output_type": "stream",
     "text": [
      "The average HP of all Pokemon is 54.5.\n"
     ]
    }
   ],
   "source": [
    "#Calculate and print the average HP of all Pokemon in the dataset.\n",
    "\n",
    "def get_hp(pokemon):\n",
    "    return pokemon[\"hp\"]\n",
    "\n",
    "pokemon_hp_list = [\n",
    "    {\"name\": \"Pikachu\", \"hp\": 35},\n",
    "    {\"name\": \"Charizard\", \"hp\": 78},\n",
    "    {\"name\": \"Gengar\", \"hp\": 60},\n",
    "    {\"name\": \"Bulbasaur\", \"hp\": 45}\n",
    "]\n",
    "\n",
    "average_hp = sum(get_hp(pokemon) for pokemon in pokemon_hp_list) / len(pokemon_hp_list)\n",
    "print(f\"The average HP of all Pokemon is {average_hp}.\")"
   ]
  },
  {
   "cell_type": "code",
   "execution_count": 84,
   "metadata": {},
   "outputs": [
    {
     "name": "stdout",
     "output_type": "stream",
     "text": [
      "('Pikachu', 220)\n",
      "('Charizard', 340)\n",
      "('Blastoise', 340)\n",
      "('Venusaur', 325)\n",
      "('Gengar', 295)\n"
     ]
    }
   ],
   "source": [
    "#Calculate and print the average HP of all Pokemon in the dataset.\n",
    "\n",
    "stats_list = []\n",
    "\n",
    "def total_stats(pokemon_tuple):\n",
    "    total = sum(pokemon_tuple[2:])\n",
    "    return total\n",
    "\n",
    "for pokemon in pokemon_data:\n",
    "    name = pokemon[0]\n",
    "    total = total_stats(pokemon)\n",
    "    stats_list.append((name, total))\n",
    "\n",
    "\n",
    "stats_list = sorted(stats_list, key=total_stats, reverse=True)\n",
    "\n",
    "print(*stats_list, sep='\\n')\n",
    "\n"
   ]
  },
  {
   "cell_type": "code",
   "execution_count": null,
   "metadata": {},
   "outputs": [],
   "source": [
    "###################Question 2##################"
   ]
  },
  {
   "cell_type": "code",
   "execution_count": 85,
   "metadata": {},
   "outputs": [],
   "source": [
    "pokemon_region_data = [\n",
    "    (\"Bulbasaur\", \"Grass\", \"Kanto\"),\n",
    "    (\"Charmander\", \"Fire\", \"Kanto\"),\n",
    "    (\"Squirtle\", \"Water\", \"Kanto\"),\n",
    "    (\"Chikorita\", \"Grass\", \"Johto\"),\n",
    "    (\"Cyndaquil\", \"Fire\", \"Johto\"),\n",
    "    (\"Totodile\", \"Water\", \"Johto\"),\n",
    "    (\"Treecko\", \"Grass\", \"Hoenn\"),\n",
    "    (\"Torchic\", \"Fire\", \"Hoenn\"),\n",
    "    (\"Mudkip\", \"Water\", \"Hoenn\"),\n",
    "    (\"Turtwig\", \"Grass\", \"Sinnoh\"),\n",
    "    (\"Chimchar\", \"Fire\", \"Sinnoh\"),\n",
    "    (\"Piplup\", \"Water\", \"Sinnoh\")\n",
    "]"
   ]
  },
  {
   "cell_type": "code",
   "execution_count": 107,
   "metadata": {},
   "outputs": [
    {
     "name": "stdout",
     "output_type": "stream",
     "text": [
      "{'Kanto': ['Bulbasaur', 'Charmander', 'Squirtle'], 'Johto': ['Chikorita', 'Cyndaquil', 'Totodile'], 'Hoenn': ['Treecko', 'Torchic', 'Mudkip'], 'Sinnoh': ['Turtwig', 'Chimchar', 'Piplup']}\n"
     ]
    }
   ],
   "source": [
    "#Create a dictionary where the keys are the regions and the values are lists of Pokemon names found in that region. Use the following structure:\n",
    "region_pokemon = {}\n",
    "\n",
    "for pokemon, _, region in pokemon_region_data:\n",
    "    \n",
    "    region_pokemon.setdefault(region, []).append(pokemon)\n",
    "\n",
    "print(region_pokemon)\n",
    "   \n",
    "\n"
   ]
  },
  {
   "cell_type": "code",
   "execution_count": 97,
   "metadata": {},
   "outputs": [
    {
     "name": "stdout",
     "output_type": "stream",
     "text": [
      "Kanto ['Bulbasaur', 'Charmander']\n",
      "Johto ['Chikorita', 'Cyndaquil']\n",
      "Hoenn ['Treecko', 'Torchic']\n",
      "Sinnoh ['Turtwig', 'Chimchar']\n"
     ]
    }
   ],
   "source": [
    "for region, pokemon_list in region_pokemon.items():\n",
    "\n",
    "    print(region, pokemon_list[0:2])"
   ]
  },
  {
   "cell_type": "code",
   "execution_count": 108,
   "metadata": {},
   "outputs": [
    {
     "name": "stdout",
     "output_type": "stream",
     "text": [
      "{'Grass': 4, 'Fire': 4, 'Water': 4}\n"
     ]
    }
   ],
   "source": [
    "# Create a new dictionary to hold the counts for each type of Pokemon\n",
    "type_count = {\"Grass\": 0, \"Fire\": 0, \"Water\": 0}\n",
    "\n",
    "for _, pokemon_type, _ in pokemon_region_data:\n",
    "   if pokemon_type.lower() == \"grass\":\n",
    "       type_count[\"Grass\"] += 1\n",
    "   elif pokemon_type.lower() == \"fire\":\n",
    "       type_count[\"Fire\"] += 1\n",
    "   elif pokemon_type.lower() == \"water\":\n",
    "       type_count[\"Water\"] += 1\n",
    "\n",
    "print(type_count)"
   ]
  },
  {
   "cell_type": "code",
   "execution_count": null,
   "metadata": {},
   "outputs": [],
   "source": []
  },
  {
   "cell_type": "code",
   "execution_count": null,
   "metadata": {},
   "outputs": [],
   "source": [
    "#########################QUESTION 3##########################"
   ]
  },
  {
   "cell_type": "code",
   "execution_count": 1,
   "metadata": {},
   "outputs": [],
   "source": [
    "# A list of dictionaries\n",
    "# Data is available on Teams (Week 08)\n",
    "trainer_data = [\n",
    "    {\n",
    "        \"name\": \"Ash\",\n",
    "        \"age\": 14,\n",
    "        \"team\": [\n",
    "            {\"name\": \"Pikachu\", \"type\": \"Electric\", \"level\": 30},\n",
    "            {\"name\": \"Charizard\", \"type\": \"Fire/Flying\", \"level\": 36},\n",
    "            {\"name\": \"Squirtle\", \"type\": \"Water\", \"level\": 28}\n",
    "        ]\n",
    "    },\n",
    "    {\n",
    "        \"name\": \"Misty\",\n",
    "        \"age\": 15,\n",
    "        \"team\": [\n",
    "            {\"name\": \"Staryu\", \"type\": \"Water\", \"level\": 32},\n",
    "            {\"name\": \"Gyarados\", \"type\": \"Water/Flying\", \"level\": 35},\n",
    "            {\"name\": \"Psyduck\", \"type\": \"Water\", \"level\": 20}\n",
    "        ]\n",
    "    },\n",
    "    {\n",
    "        \"name\": \"Brock\",\n",
    "        \"age\": 18,\n",
    "        \"team\": [\n",
    "            {\"name\": \"Onix\", \"type\": \"Rock/Ground\", \"level\": 34},\n",
    "            {\"name\": \"Geodude\", \"type\": \"Rock/Ground\", \"level\": 30},\n",
    "            {\"name\": \"Zubat\", \"type\": \"Poison/Flying\", \"level\": 25}\n",
    "        ]\n",
    "    }\n",
    "]"
   ]
  },
  {
   "cell_type": "code",
   "execution_count": 3,
   "metadata": {},
   "outputs": [
    {
     "name": "stdout",
     "output_type": "stream",
     "text": [
      "Ash is 14 years old and has 3 Pokemon in their team.\n",
      "Misty is 15 years old and has 3 Pokemon in their team.\n",
      "Brock is 18 years old and has 3 Pokemon in their team.\n"
     ]
    }
   ],
   "source": [
    "#Create a function that takes a trainer's dictionary and returns a formatted string with the trainer's name, age, and the number of Pokemon in their team. Use this function to print information for all trainers in the dataset\n",
    "\n",
    "def format_trainer_info(trainer):\n",
    "    # Get the trainer's name\n",
    "    name = trainer[\"name\"]\n",
    "\n",
    "    # Get the trainer's age\n",
    "    age = trainer[\"age\"]\n",
    "\n",
    "    # Get the number of Pokemon in the trainer's team\n",
    "    team_size = len(trainer[\"team\"])\n",
    "\n",
    "    # Format and return the string\n",
    "    return f\"{name} is {age} years old and has {team_size} Pokemon in their team.\"\n",
    "\n",
    "# Use your function to print info for all trainers\n",
    "for trainer in trainer_data:\n",
    "    print(format_trainer_info(trainer))"
   ]
  },
  {
   "cell_type": "code",
   "execution_count": 4,
   "metadata": {},
   "outputs": [
    {
     "name": "stdout",
     "output_type": "stream",
     "text": [
      "The trainer with the highest average Pokemon level is Ash with an average level of 31.33.\n"
     ]
    }
   ],
   "source": [
    "#Find the trainer with the highest average Pokemon level\n",
    "# Initialize variables to keep track of the highest average and the corresponding trainer\n",
    "highest_avg = 0\n",
    "highest_avg_trainer = \"\"\n",
    "\n",
    "# Loop through each trainer in the dataset\n",
    "for trainer in trainer_data:\n",
    "    # Calculate the total level of all Pokemon in the trainer's team\n",
    "    total_level = 0\n",
    "    for pokemon in trainer[\"team\"]:\n",
    "        total_level += pokemon[\"level\"]\n",
    "\n",
    "    # Calculate the average level\n",
    "    avg_level = total_level / len(trainer[\"team\"])\n",
    "\n",
    "    # If this average is higher than the current highest, update our tracking variables\n",
    "    if avg_level > highest_avg:\n",
    "        highest_avg = avg_level\n",
    "        highest_avg_trainer = trainer[\"name\"]\n",
    "\n",
    "\n",
    "# Print the result\n",
    "print(f\"The trainer with the highest average Pokemon level is {highest_avg_trainer} with an average level of {highest_avg:.2f}.\")"
   ]
  },
  {
   "cell_type": "code",
   "execution_count": 5,
   "metadata": {},
   "outputs": [
    {
     "name": "stdout",
     "output_type": "stream",
     "text": [
      "{'Electric': 1, 'Fire': 1, 'Flying': 3, 'Water': 4, 'Rock': 2, 'Ground': 2, 'Poison': 1}\n"
     ]
    }
   ],
   "source": [
    "#Create a dictionary that counts the number of Pokemon of each type across all trainers' teams. If a Pokemon has multiple types (e.g., \"Fire/Flying\"), count it for both types\n",
    "from collections import defaultdict\n",
    "\n",
    "# Initialize a defaultdict to count Pokemon types\n",
    "type_count = defaultdict(int)\n",
    "\n",
    "# Loop through each trainer\n",
    "for trainer in trainer_data:\n",
    "    # Loop through each Pokemon in the trainer's team\n",
    "    for pokemon in trainer[\"team\"]:\n",
    "        # Get the Pokemon's type(s)\n",
    "        types = pokemon[\"type\"].split(\"/\")\n",
    "        \n",
    "        # Increment the count for each type\n",
    "        for poke_type in types:\n",
    "            type_count[poke_type] += 1\n",
    "\n",
    "# Convert defaultdict to regular dict for printing\n",
    "type_count = dict(type_count)\n",
    "print(type_count)"
   ]
  },
  {
   "cell_type": "code",
   "execution_count": 11,
   "metadata": {},
   "outputs": [
    {
     "name": "stdout",
     "output_type": "stream",
     "text": [
      "[{'name': 'Staryu', 'type': 'Water', 'level': 32}, {'name': 'Gyarados', 'type': 'Water/Flying', 'level': 35}, {'name': 'Psyduck', 'type': 'Water', 'level': 20}]\n",
      "[{'name': 'Pikachu', 'type': 'Electric', 'level': 30}]\n",
      "[{'name': 'Onix', 'type': 'Rock/Ground', 'level': 34}, {'name': 'Geodude', 'type': 'Rock/Ground', 'level': 30}]\n"
     ]
    }
   ],
   "source": [
    "#Write a function that takes a trainer's name and a Pokemon type, and returns a list of all Pokemon of that type in the trainer's team. If the trainer doesn't have any Pokemon of that type, return an empty list. Test your function with different trainers and types\n",
    "def get_pokemon_by_type(trainer_name, pokemon_type):\n",
    "    # Initialize an empty list to store matching Pokemon\n",
    "    matching_pokemon = []\n",
    "\n",
    "    # Loop through each trainer to find the one with the given name\n",
    "    for trainer in trainer_data:\n",
    "        if trainer[\"name\"] == trainer_name:\n",
    "            # Loop through each Pokemon in the trainer's team\n",
    "            for pokemon in trainer[\"team\"]:\n",
    "                # Check if the Pokemon's type matches the given type\n",
    "                if pokemon_type in pokemon[\"type\"]:\n",
    "                    matching_pokemon.append(pokemon)\n",
    "\n",
    "    # Return the list of matching Pokemon\n",
    "    return matching_pokemon\n",
    "\n",
    "# Test your function\n",
    "print(get_pokemon_by_type(\"Misty\", \"Water\"))\n",
    "print(get_pokemon_by_type(\"Ash\", \"Electric\"))\n",
    "print(get_pokemon_by_type(\"Brock\", \"Rock/Ground\"))"
   ]
  }
 ],
 "metadata": {
  "kernelspec": {
   "display_name": "Python 3",
   "language": "python",
   "name": "python3"
  },
  "language_info": {
   "codemirror_mode": {
    "name": "ipython",
    "version": 3
   },
   "file_extension": ".py",
   "mimetype": "text/x-python",
   "name": "python",
   "nbconvert_exporter": "python",
   "pygments_lexer": "ipython3",
   "version": "3.11.9"
  }
 },
 "nbformat": 4,
 "nbformat_minor": 2
}
