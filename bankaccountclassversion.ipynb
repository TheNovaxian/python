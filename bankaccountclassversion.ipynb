{
 "cells": [
  {
   "cell_type": "code",
   "execution_count": 13,
   "metadata": {},
   "outputs": [
    {
     "name": "stdout",
     "output_type": "stream",
     "text": [
      "Deposited $400. New balance: $20000000\n",
      "Withdrew $40320 New balance: $19959680\n",
      "Current Balance: $19959680\n",
      "shaquille's account. Balance: $19959680\n"
     ]
    }
   ],
   "source": [
    "from datetime import datetime\n",
    "\n",
    "class Account():\n",
    "\n",
    "    def __init__(self, account_holder, initial_balance):\n",
    "        self.account_holder = account_holder\n",
    "        self._balance = initial_balance\n",
    "        self._transaction_history = []\n",
    "        \n",
    "\n",
    "    @property\n",
    "    def balance(self):\n",
    "        return self._balance\n",
    "\n",
    "    def deposit(self,amount):\n",
    "        if amount <= 0:\n",
    "            print(\"Amount must be greater than zero\")\n",
    "            return\n",
    "            self._balance += amount\n",
    "        print(f\"Deposited ${amount}. New balance: ${self._balance}\")\n",
    "\n",
    "    def withdraw(self, amount):\n",
    "        if amount <= 0:\n",
    "            print(\"Amount must be greater than zero\")\n",
    "            return\n",
    "        if self._balance >= amount:\n",
    "            self._balance -= amount\n",
    "            print(f\"Withdrew ${amount} New balance: ${self._balance}\")\n",
    "            self._add_transaction(\"withdraw\", amount)\n",
    "        else:\n",
    "            print(\"Insufficient funds!\")\n",
    "\n",
    "    def _add_transaction(self, transaction_type, amount):\n",
    "        transaction = {\n",
    "            \"date\": datetime.now().strftime(\"%d-%m-%Y %H:%M:%S\"),\n",
    "            \"type\": transaction_type,\n",
    "            \"amount\": amount,\n",
    "            \"balance\": self._balance\n",
    "        }\n",
    "        self._transaction_history.append(transaction)\n",
    "\n",
    " ##append dictionary transaction to the transaction history\n",
    "    def get_transaction_hitory(self):\n",
    "     \n",
    "         \n",
    "\n",
    "    def get_balance(self):\n",
    "        return self._balance\n",
    "\n",
    "    def __str__(self):\n",
    "        return f\"{self.account_holder}'s account. Balance: ${self.get_balance()}\"\n",
    "\n",
    "##Demo Area\n",
    "my_account = Account( \"shaquille\", 20000000)\n",
    "my_account.deposit(400)    \n",
    "my_account.withdraw(40320)\n",
    "my_account.get_balance()\n",
    "print(f\"Current Balance: ${my_account.get_balance()}\")\n",
    "print(my_account)\n"
   ]
  },
  {
   "cell_type": "code",
   "execution_count": null,
   "metadata": {},
   "outputs": [],
   "source": []
  }
 ],
 "metadata": {
  "kernelspec": {
   "display_name": "Python 3",
   "language": "python",
   "name": "python3"
  },
  "language_info": {
   "codemirror_mode": {
    "name": "ipython",
    "version": 3
   },
   "file_extension": ".py",
   "mimetype": "text/x-python",
   "name": "python",
   "nbconvert_exporter": "python",
   "pygments_lexer": "ipython3",
   "version": "3.12.5"
  }
 },
 "nbformat": 4,
 "nbformat_minor": 2
}
