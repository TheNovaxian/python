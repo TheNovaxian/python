{
 "cells": [
  {
   "cell_type": "code",
   "execution_count": 1,
   "metadata": {},
   "outputs": [
    {
     "name": "stdout",
     "output_type": "stream",
     "text": [
      "Deposited $500. New balance: $1500\n",
      "Withdrew $200. New balance: $1300\n",
      "Current balance: $1300\n"
     ]
    }
   ],
   "source": [
    "def create_bank_account(account_holder, initial_balance):\n",
    "    return {\n",
    "        \"account_holder\": account_holder,\n",
    "        \"balance\": initial_balance\n",
    "    }\n",
    "\n",
    "def deposit(account, amount):\n",
    "    account[\"balance\"] += amount\n",
    "    print(f\"Deposited ${amount}. New balance: ${account['balance']}\")\n",
    "\n",
    "def withdraw(account, amount):\n",
    "    if account[\"balance\"] >= amount:\n",
    "        account[\"balance\"] -= amount\n",
    "        print(f\"Withdrew ${amount}. New balance: ${account['balance']}\")\n",
    "    else:\n",
    "        print(\"Insufficient funds!\")\n",
    "\n",
    "def get_balance(account):\n",
    "    return account[\"balance\"]\n",
    "    \n",
    "\n",
    "# Usage example\n",
    "my_account = create_bank_account(\"John Doe\", 1000)\n",
    "deposit(my_account, 500)\n",
    "withdraw(my_account, 200)\n",
    "print(f\"Current balance: ${get_balance(my_account)}\")"
   ]
  }
 ],
 "metadata": {
  "kernelspec": {
   "display_name": "Python 3",
   "language": "python",
   "name": "python3"
  },
  "language_info": {
   "codemirror_mode": {
    "name": "ipython",
    "version": 3
   },
   "file_extension": ".py",
   "mimetype": "text/x-python",
   "name": "python",
   "nbconvert_exporter": "python",
   "pygments_lexer": "ipython3",
   "version": "3.12.5"
  }
 },
 "nbformat": 4,
 "nbformat_minor": 2
}
